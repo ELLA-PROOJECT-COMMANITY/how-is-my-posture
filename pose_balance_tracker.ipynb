{
 "cells": [
  {
   "cell_type": "code",
   "execution_count": null,
   "metadata": {},
   "outputs": [
    {
     "name": "stdout",
     "output_type": "stream",
     "text": [
      "התחלנו לעבד את הווידאו (1806 פריימים)...\n"
     ]
    },
    {
     "name": "stderr",
     "output_type": "stream",
     "text": [
      "WARNING: All log messages before absl::InitializeLog() is called are written to STDERR\n",
      "I0000 00:00:1754305195.153318 20942323 gl_context.cc:369] GL version: 2.1 (2.1 Metal - 89.4), renderer: Apple M1\n",
      "INFO: Created TensorFlow Lite XNNPACK delegate for CPU.\n",
      "W0000 00:00:1754305195.250923 20942408 inference_feedback_manager.cc:114] Feedback manager requires a model with a single signature inference. Disabling support for feedback tensors.\n",
      "W0000 00:00:1754305195.303861 20942409 inference_feedback_manager.cc:114] Feedback manager requires a model with a single signature inference. Disabling support for feedback tensors.\n",
      "W0000 00:00:1754305195.375294 20942409 landmark_projection_calculator.cc:186] Using NORM_RECT without IMAGE_DIMENSIONS is only supported for the square ROI. Provide IMAGE_DIMENSIONS or use PROJECTION_MATRIX.\n"
     ]
    },
    {
     "name": "stdout",
     "output_type": "stream",
     "text": [
      "השלד שובץ בהצלחה על 1806 פריימים.\n",
      "הסרטון נשמר ב: /Users/shay_ziv/Downloads/pose_output02.mp4\n",
      "זמן ריצה כולל: 147.6 שניות.\n"
     ]
    }
   ],
   "source": [
    "import cv2\n",
    "import mediapipe as mp\n",
    "import time\n",
    "\n",
    "mp_drawing = mp.solutions.drawing_utils\n",
    "mp_pose = mp.solutions.pose\n",
    "\n",
    "def process_video(input_path, output_path, rotate=False):\n",
    "    cap = cv2.VideoCapture(input_path)\n",
    "    total_frames = int(cap.get(cv2.CAP_PROP_FRAME_COUNT))\n",
    "    width  = int(cap.get(cv2.CAP_PROP_FRAME_WIDTH))\n",
    "    height = int(cap.get(cv2.CAP_PROP_FRAME_HEIGHT))\n",
    "    fps    = cap.get(cv2.CAP_PROP_FPS)\n",
    "    fourcc = cv2.VideoWriter_fourcc(*'mp4v')\n",
    "    out    = cv2.VideoWriter(output_path, fourcc, fps, (height if rotate else width, width if rotate else height) if rotate else (width, height))\n",
    "\n",
    "    print(f\"התחלנו לעבד את הווידאו ({total_frames} פריימים)...\")\n",
    "\n",
    "    with mp_pose.Pose(static_image_mode=False,\n",
    "                      model_complexity=2,\n",
    "                      enable_segmentation=False,\n",
    "                      min_detection_confidence=0.5,\n",
    "                      min_tracking_confidence=0.5) as pose:\n",
    "\n",
    "        frame_num = 0\n",
    "        start_time = time.time()\n",
    "\n",
    "        while cap.isOpened():\n",
    "            success, frame = cap.read()\n",
    "            if not success:\n",
    "                break\n",
    "\n",
    "            frame_num += 1\n",
    "\n",
    "            if rotate:\n",
    "                frame = cv2.rotate(frame, cv2.ROTATE_90_CLOCKWISE)\n",
    "\n",
    "            image_rgb = cv2.cvtColor(frame, cv2.COLOR_BGR2RGB)\n",
    "            results = pose.process(image_rgb)\n",
    "\n",
    "            if results.pose_landmarks:\n",
    "                mp_drawing.draw_landmarks(\n",
    "                    frame,\n",
    "                    results.pose_landmarks,\n",
    "                    mp_pose.POSE_CONNECTIONS,\n",
    "                    mp_drawing.DrawingSpec(color=(0,255,0), thickness=2, circle_radius=2),\n",
    "                    mp_drawing.DrawingSpec(color=(0,0,255), thickness=2))\n",
    "\n",
    "            progress_text = f\"Frame {frame_num}/{total_frames}\"\n",
    "            cv2.putText(frame, progress_text, (30, 30),\n",
    "                        cv2.FONT_HERSHEY_SIMPLEX, 1, (255, 255, 0), 2)\n",
    "\n",
    "            out.write(frame)\n",
    "            cv2.imshow('Pose Analysis (press Q to quit)', frame)\n",
    "            if cv2.waitKey(1) & 0xFF == ord('q'):\n",
    "                break\n",
    "\n",
    "        cap.release()\n",
    "        out.release()\n",
    "        cv2.destroyAllWindows()\n",
    "\n",
    "        duration = time.time() - start_time\n",
    "        print(f\"השלד שובץ בהצלחה על {frame_num} פריימים.\")\n",
    "        print(f\"הסרטון נשמר ב: {output_path}\")\n",
    "        print(f\"זמן ריצה כולל: {duration:.1f} שניות.\")\n",
    "\n",
    "# שימוש\n",
    "process_video(\n",
    "    input_path='/Users/shay_ziv/Downloads/elawolk.mp4',   #FILE_NAME\n",
    "    output_path='/Users/shay_ziv/Downloads/pose_output02.mp4',\n",
    "    rotate=True\n",
    ")\n"
   ]
  }
 ],
 "metadata": {
  "kernelspec": {
   "display_name": "eye_gaze",
   "language": "python",
   "name": "python3"
  },
  "language_info": {
   "codemirror_mode": {
    "name": "ipython",
    "version": 3
   },
   "file_extension": ".py",
   "mimetype": "text/x-python",
   "name": "python",
   "nbconvert_exporter": "python",
   "pygments_lexer": "ipython3",
   "version": "3.10.18"
  }
 },
 "nbformat": 4,
 "nbformat_minor": 2
}
